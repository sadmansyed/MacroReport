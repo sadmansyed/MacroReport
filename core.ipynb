{
  "nbformat": 4,
  "nbformat_minor": 0,
  "metadata": {
    "colab": {
      "provenance": [],
      "authorship_tag": "ABX9TyOBhp4o3PaZjL99G1cOBQhE",
      "include_colab_link": true
    },
    "kernelspec": {
      "name": "python3",
      "display_name": "Python 3"
    },
    "language_info": {
      "name": "python"
    }
  },
  "cells": [
    {
      "cell_type": "markdown",
      "metadata": {
        "id": "view-in-github",
        "colab_type": "text"
      },
      "source": [
        "<a href=\"https://colab.research.google.com/github/sadmansyed/MacroReport/blob/master/core.ipynb\" target=\"_parent\"><img src=\"https://colab.research.google.com/assets/colab-badge.svg\" alt=\"Open In Colab\"/></a>"
      ]
    },
    {
      "cell_type": "code",
      "execution_count": null,
      "metadata": {
        "id": "CTBOm8eL9Yn1"
      },
      "outputs": [],
      "source": [
        "import pandas as pd\n",
        "import matplotlib.pyplot as plt\n",
        "import numpy as np\n",
        "from datetime import date"
      ]
    },
    {
      "cell_type": "code",
      "source": [
        "from google.colab import drive\n",
        "drive.mount('/content/gdrive', force_remount = True)"
      ],
      "metadata": {
        "id": "R0KNhEKZ9h7H",
        "colab": {
          "base_uri": "https://localhost:8080/"
        },
        "outputId": "78004a8b-27ab-4081-a8ff-542260b8b5ca"
      },
      "execution_count": null,
      "outputs": [
        {
          "output_type": "stream",
          "name": "stdout",
          "text": [
            "Mounted at /content/gdrive\n"
          ]
        }
      ]
    },
    {
      "cell_type": "code",
      "source": [
        "path = '/content/gdrive/MyDrive/Colab Notebooks/macro/real.xlsx'\n",
        "data = pd.read_excel(path)"
      ],
      "metadata": {
        "id": "yKpCHBHH9p33"
      },
      "execution_count": null,
      "outputs": []
    },
    {
      "cell_type": "code",
      "source": [
        "data.set_index('CountryName', inplace = True)"
      ],
      "metadata": {
        "id": "vXlUUnv7_UC8"
      },
      "execution_count": null,
      "outputs": []
    },
    {
      "cell_type": "code",
      "source": [
        "pip install xlwt"
      ],
      "metadata": {
        "colab": {
          "base_uri": "https://localhost:8080/"
        },
        "id": "EcO8hPLEyIXF",
        "outputId": "7ed8db10-05f0-4040-82fc-5ea91c0f431c"
      },
      "execution_count": null,
      "outputs": [
        {
          "output_type": "stream",
          "name": "stdout",
          "text": [
            "Requirement already satisfied: xlwt in /usr/local/lib/python3.10/dist-packages (1.3.0)\n"
          ]
        }
      ]
    },
    {
      "cell_type": "code",
      "source": [
        "data.loc[['United States', 'China']].to_excel('/content/gdrive/MyDrive/Colab Notebooks/macro/real.xlsx')"
      ],
      "metadata": {
        "id": "biMjBV5c_Y1A"
      },
      "execution_count": null,
      "outputs": []
    }
  ]
}